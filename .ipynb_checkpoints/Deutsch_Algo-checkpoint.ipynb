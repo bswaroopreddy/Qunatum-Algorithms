{
 "cells": [
  {
   "cell_type": "code",
   "execution_count": 4,
   "id": "bc697c43-9264-4a48-9508-194c3e54ca69",
   "metadata": {},
   "outputs": [
    {
     "name": "stdout",
     "output_type": "stream",
     "text": [
      "1.3.3\n"
     ]
    }
   ],
   "source": [
    "from qiskit import __version__\n",
    "print(__version__)"
   ]
  },
  {
   "cell_type": "code",
   "execution_count": 5,
   "id": "21f73440",
   "metadata": {},
   "outputs": [],
   "source": [
    "from qiskit import QuantumCircuit\n",
    "\n",
    "def deutsch_oracle_function(case: int):\n",
    "    \"\"\"\n",
    "        Generate a valid Deutsch oracle function f as a `QuantumCircuit`.\n",
    "    \"\"\"\n",
    "    if case not in [1, 2, 3, 4]:\n",
    "        raise ValueError(\"`case` must be 1, 2, 3, or 4.\")\n",
    "\n",
    "    f = QuantumCircuit(2)\n",
    "    if case in [1]:\n",
    "        pass\n",
    "    if case in [2, 3]:\n",
    "        f.cx(0, 1)\n",
    "    if case in [3,4]:\n",
    "        f.x(1)\n",
    "\n",
    "    return f\n",
    "        \n",
    "        "
   ]
  },
  {
   "cell_type": "markdown",
   "id": "4c34a40d",
   "metadata": {},
   "source": []
  },
  {
   "cell_type": "code",
   "execution_count": 6,
   "id": "3bc7b426",
   "metadata": {},
   "outputs": [
    {
     "data": {
      "image/png": "[encoded data removed]",
      "text/plain": [
       "<Figure size 287.294x200.667 with 1 Axes>"
      ]
     },
     "metadata": {},
     "output_type": "display_data"
    }
   ],
   "source": [
    "# Deutsch function for f(x) = ~x\n",
    "display(deutsch_oracle_function(3).draw('mpl'))"
   ]
  },
  {
   "cell_type": "code",
   "execution_count": 7,
   "id": "367d6c35",
   "metadata": {},
   "outputs": [
    {
     "data": {
      "image/png": "[encoded data removed]",
      "text/plain": [
       "<Figure size 161.878x200.667 with 1 Axes>"
      ]
     },
     "metadata": {},
     "output_type": "display_data"
    }
   ],
   "source": [
    "# Deutsch function for f(x) = 0\n",
    "display(deutsch_oracle_function(1).draw('mpl'))"
   ]
  },
  {
   "cell_type": "code",
   "execution_count": 8,
   "id": "4b3609d1",
   "metadata": {},
   "outputs": [
    {
     "data": {
      "image/png": "[encoded data removed]",
      "text/plain": [
       "<Figure size 203.683x200.667 with 1 Axes>"
      ]
     },
     "metadata": {},
     "output_type": "display_data"
    }
   ],
   "source": [
    "# Deutsch function for f(x) = x\n",
    "display(deutsch_oracle_function(2).draw('mpl'))"
   ]
  },
  {
   "cell_type": "code",
   "execution_count": 9,
   "id": "77d7051f",
   "metadata": {},
   "outputs": [
    {
     "data": {
      "image/png": "[encoded data removed]",
      "text/plain": [
       "<Figure size 203.683x200.667 with 1 Axes>"
      ]
     },
     "metadata": {},
     "output_type": "display_data"
    },
    {
     "data": {
      "text/html": [
       "<pre style=\"word-wrap: normal;white-space: pre;background: #fff0;line-height: 1.1;font-family: &quot;Courier New&quot;,Courier,monospace\">          \n",
       "q_0: ─────\n",
       "     ┌───┐\n",
       "q_1: ┤ X ├\n",
       "     └───┘</pre>"
      ],
      "text/plain": [
       "          \n",
       "q_0: ─────\n",
       "     ┌───┐\n",
       "q_1: ┤ X ├\n",
       "     └───┘"
      ]
     },
     "metadata": {},
     "output_type": "display_data"
    }
   ],
   "source": [
    "# Deutsch function for f(x) = 1\n",
    "display(deutsch_oracle_function(4).draw('mpl'))\n",
    "display(deutsch_oracle_function(4).draw())"
   ]
  },
  {
   "cell_type": "code",
   "execution_count": null,
   "id": "c8e2d0cb-f23d-416b-be6c-083dad061317",
   "metadata": {},
   "outputs": [],
   "source": []
  },
  {
   "cell_type": "code",
   "execution_count": 10,
   "id": "6ceae78f-2d87-4923-830f-a29e6a823d7b",
   "metadata": {},
   "outputs": [
    {
     "data": {
      "image/png": "[encoded data removed]",
      "text/plain": [
       "<Figure size 203.683x200.667 with 1 Axes>"
      ]
     },
     "metadata": {},
     "output_type": "display_data"
    },
    {
     "data": {
      "text/latex": [
       "$$ |01\\rangle$$"
      ],
      "text/plain": [
       "<IPython.core.display.Latex object>"
      ]
     },
     "metadata": {},
     "output_type": "display_data"
    },
    {
     "name": "stdout",
     "output_type": "stream",
     "text": [
      "Final Statevector: Statevector([0.+0.j, 1.+0.j, 0.+0.j, 0.+0.j],\n",
      "            dims=(2, 2))\n"
     ]
    },
    {
     "data": {
      "text/latex": [
       "$$ |01\\rangle$$"
      ],
      "text/plain": [
       "<IPython.core.display.Latex object>"
      ]
     },
     "execution_count": 10,
     "metadata": {},
     "output_type": "execute_result"
    }
   ],
   "source": [
    "from qiskit.quantum_info import Statevector\n",
    "query_gate = deutsch_oracle_function(2)\n",
    "display(query_gate.draw(\"mpl\"))\n",
    "\n",
    "state = Statevector([0,1,0,0])\n",
    "display(state.draw(\"latex\"))\n",
    "query_gate.initialize(state, [0,1])\n",
    "final_state = Statevector.from_instruction(query_gate)\n",
    "# Print the final statevector\n",
    "print(\"Final Statevector:\", final_state)\n",
    "final_state.draw(\"latex\")"
   ]
  },
  {
   "cell_type": "code",
   "execution_count": 11,
   "id": "59f81f78-0784-42b3-8a83-4997ee29bae4",
   "metadata": {},
   "outputs": [
    {
     "data": {
      "text/latex": [
       "$$ |01\\rangle$$"
      ],
      "text/plain": [
       "<IPython.core.display.Latex object>"
      ]
     },
     "metadata": {},
     "output_type": "display_data"
    },
    {
     "data": {
      "image/png": "[encoded data removed]",
      "text/plain": [
       "<Figure size 370.906x200.667 with 1 Axes>"
      ]
     },
     "metadata": {},
     "output_type": "display_data"
    },
    {
     "name": "stdout",
     "output_type": "stream",
     "text": [
      "Final Statevector: Statevector([0.+0.j, 0.+0.j, 0.+0.j, 1.+0.j],\n",
      "            dims=(2, 2))\n"
     ]
    },
    {
     "data": {
      "text/latex": [
       "$$ |11\\rangle$$"
      ],
      "text/plain": [
       "<IPython.core.display.Latex object>"
      ]
     },
     "execution_count": 11,
     "metadata": {},
     "output_type": "execute_result"
    }
   ],
   "source": [
    "from qiskit.quantum_info import Statevector\n",
    "\n",
    "qc = QuantumCircuit(2)\n",
    "state = Statevector([0,1,0,0])\n",
    "display(state.draw(\"latex\"))\n",
    "qc.initialize(state, [0,1])\n",
    "qc.cx(0,1)\n",
    "final_state = Statevector.from_instruction(qc)\n",
    "display(qc.draw(\"mpl\"))\n",
    "# Print the final statevector\n",
    "print(\"Final Statevector:\", final_state)\n",
    "final_state.draw(\"latex\")\n"
   ]
  },
  {
   "cell_type": "code",
   "execution_count": 12,
   "id": "942cf847-41f1-4caf-bdf0-40590c441f07",
   "metadata": {},
   "outputs": [],
   "source": [
    "def compile_circuit(f: QuantumCircuit):\n",
    "    qc = QuantumCircuit(2, 1)\n",
    "    \n",
    "    qc.x(1)\n",
    "    qc.h(range(2))\n",
    "    qc.barrier()\n",
    "\n",
    "    qc.compose(f, inplace=True)\n",
    "    qc.barrier()\n",
    "\n",
    "    qc.h(0)\n",
    "    qc.measure(0, 0)\n",
    "\n",
    "    \n",
    "    return qc"
   ]
  },
  {
   "cell_type": "code",
   "execution_count": 13,
   "id": "4a31676b-fe4f-49fe-b9cc-9e8fb6c3fd33",
   "metadata": {},
   "outputs": [
    {
     "data": {
      "image/png": "[encoded data removed]",
      "text/plain": [
       "<Figure size 705.35x284.278 with 1 Axes>"
      ]
     },
     "metadata": {},
     "output_type": "display_data"
    }
   ],
   "source": [
    "display(compile_circuit(deutsch_oracle_function(4)).draw(\"mpl\"))"
   ]
  },
  {
   "cell_type": "code",
   "execution_count": 16,
   "id": "4f857499-5687-4f86-bf1c-24eceb27118e",
   "metadata": {},
   "outputs": [],
   "source": [
    "from qiskit_aer import AerSimulator\n",
    "\n",
    "def deutsch_algorithm(f: QuantumCircuit):\n",
    "    \"\"\"\n",
    "    Determine if a Deutsch function is constant or balanced.\n",
    "    \"\"\"\n",
    "    qc = compile_circuit(f)\n",
    "\n",
    "    result = AerSimulator().run(qc, shots=1, memory=True).result()\n",
    "    measurements = result.get_memory()\n",
    "    print(measurements)\n",
    "\n",
    "    if measurements[0] == '0':\n",
    "        return \"constatnt\"\n",
    "    return \"balanced\""
   ]
  },
  {
   "cell_type": "code",
   "execution_count": 17,
   "id": "5a000074-1f5b-4c5c-8434-f42915790097",
   "metadata": {},
   "outputs": [
    {
     "data": {
      "image/png": "[encoded data removed]",
      "text/plain": [
       "<Figure size 287.294x200.667 with 1 Axes>"
      ]
     },
     "metadata": {},
     "output_type": "display_data"
    },
    {
     "name": "stdout",
     "output_type": "stream",
     "text": [
      "['1']\n",
      "balanced\n"
     ]
    }
   ],
   "source": [
    "f = deutsch_oracle_function(3)\n",
    "display(f.draw(\"mpl\"))\n",
    "result = deutsch_algorithm(f)\n",
    "print(result)"
   ]
  },
  {
   "cell_type": "code",
   "execution_count": 21,
   "id": "d9849578-dd92-4301-b02c-500aad524169",
   "metadata": {},
   "outputs": [
    {
     "data": {
      "image/png": "[encoded data removed]",
      "text/plain": [
       "<Figure size 161.878x200.667 with 1 Axes>"
      ]
     },
     "metadata": {},
     "output_type": "display_data"
    },
    {
     "name": "stdout",
     "output_type": "stream",
     "text": [
      "['0']\n",
      "constatnt\n"
     ]
    }
   ],
   "source": [
    "f = deutsch_oracle_function(1)\n",
    "display(f.draw(\"mpl\"))\n",
    "result = deutsch_algorithm(f)\n",
    "print(result)"
   ]
  },
  {
   "cell_type": "code",
   "execution_count": 22,
   "id": "c843d609-97bf-4ed7-9e6a-496e2733fee5",
   "metadata": {},
   "outputs": [
    {
     "data": {
      "image/png": "[encoded data removed]",
      "text/plain": [
       "<Figure size 203.683x200.667 with 1 Axes>"
      ]
     },
     "metadata": {},
     "output_type": "display_data"
    },
    {
     "name": "stdout",
     "output_type": "stream",
     "text": [
      "['1']\n",
      "balanced\n"
     ]
    }
   ],
   "source": [
    "f = deutsch_oracle_function(2)\n",
    "display(f.draw(\"mpl\"))\n",
    "result = deutsch_algorithm(f)\n",
    "print(result)"
   ]
  },
  {
   "cell_type": "code",
   "execution_count": 23,
   "id": "083c7ba5-9f03-40ce-82e2-b825fbfb6d40",
   "metadata": {},
   "outputs": [
    {
     "data": {
      "image/png": "[encoded data removed]",
      "text/plain": [
       "<Figure size 203.683x200.667 with 1 Axes>"
      ]
     },
     "metadata": {},
     "output_type": "display_data"
    },
    {
     "name": "stdout",
     "output_type": "stream",
     "text": [
      "['0']\n",
      "constatnt\n"
     ]
    }
   ],
   "source": [
    "f = deutsch_oracle_function(4)\n",
    "display(f.draw(\"mpl\"))\n",
    "result = deutsch_algorithm(f)\n",
    "print(result)"
   ]
  },
  {
   "cell_type": "code",
   "execution_count": null,
   "id": "9c5390d2-732f-420f-acc2-1ef15c522b3b",
   "metadata": {},
   "outputs": [],
   "source": []
  }
 ],
 "metadata": {
  "kernelspec": {
   "display_name": "Python 3 (ipykernel)",
   "language": "python",
   "name": "python3"
  },
  "language_info": {
   "codemirror_mode": {
    "name": "ipython",
    "version": 3
   },
   "file_extension": ".py",
   "mimetype": "text/x-python",
   "name": "python",
   "nbconvert_exporter": "python",
   "pygments_lexer": "ipython3",
   "version": "3.12.3"
  }
 },
 "nbformat": 4,
 "nbformat_minor": 5
}
